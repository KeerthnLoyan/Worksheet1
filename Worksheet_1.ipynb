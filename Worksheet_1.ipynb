{
 "cells": [
  {
   "cell_type": "code",
   "execution_count": 1,
   "id": "4e695ef3",
   "metadata": {},
   "outputs": [
    {
     "name": "stdout",
     "output_type": "stream",
     "text": [
      "Enter a number: 5\n",
      "The factorial of 5 is 120\n"
     ]
    }
   ],
   "source": [
    "#1.Write a python program to find the factorial of a number.\n",
    "\n",
    "\n",
    "# To take input from the user\n",
    "num = int(input(\"Enter a number: \"))\n",
    "\n",
    "factorial = 1\n",
    "\n",
    "# check if the number is negative, positive or zero\n",
    "if num < 0:\n",
    "   print(\"Sorry, factorial does not exist for negative numbers\")\n",
    "elif num == 0:\n",
    "   print(\"The factorial of 0 is 1\")\n",
    "else:\n",
    "   for i in range(1,num+1):\n",
    "       factorial = factorial*i\n",
    "   print(\"The factorial of\",num,\"is\",factorial)"
   ]
  },
  {
   "cell_type": "code",
   "execution_count": 2,
   "id": "530093ff",
   "metadata": {},
   "outputs": [
    {
     "name": "stdout",
     "output_type": "stream",
     "text": [
      "Enter any number : 4\n",
      "4 is NOT a prime number\n"
     ]
    }
   ],
   "source": [
    "#2. Write a python program to find whether a number is prime or composite\n",
    "num = int(input(\"Enter any number : \"))\n",
    "if num > 1:\n",
    "    for i in range(2, num):\n",
    "        if (num % i) == 0:# if remainder is one then it is not a prime number\n",
    "           print(num, \"is NOT a prime number\")\n",
    "           break\n",
    "    else:\n",
    "        print(num,\"is a composite number\")\n",
    "    \n",
    "elif num==0 or num==1:\n",
    "    print(\"It is neither prime nor composite\")"
   ]
  },
  {
   "cell_type": "code",
   "execution_count": 3,
   "id": "4177e63b",
   "metadata": {},
   "outputs": [
    {
     "name": "stdout",
     "output_type": "stream",
     "text": [
      "Enter any number : wer\n",
      "Given number is not palindrome\n"
     ]
    }
   ],
   "source": [
    "#3.Write a python program to check whether a given string is palindrome or not\n",
    "s =input(\"Enter any number : \")\n",
    "\n",
    "reverse=s[::-1] # This code will help us to get the reverse number and that will be stored in reverse\n",
    "if s==reverse: #Comparision between input value and reverse\n",
    "    print(\"Given string is palindrome\")\n",
    "else:\n",
    "    print(\"Given number is not palindrome\")"
   ]
  },
  {
   "cell_type": "code",
   "execution_count": 7,
   "id": "5df219bd",
   "metadata": {},
   "outputs": [
    {
     "name": "stdout",
     "output_type": "stream",
     "text": [
      "Enter the 2 side length of the triangle\n",
      "Length 1==>2\n",
      "Length 2==>3\n",
      "The third side of the right triangle is==> 3.605551275463989\n"
     ]
    }
   ],
   "source": [
    "#4.Write a Python program to get the third side of right-angled triangle from two given sides.\n",
    "\n",
    "from math import sqrt\n",
    "\n",
    "print(\"Enter the 2 sides length of the triangle\")\n",
    "\n",
    "l1=float(input('Length 1==>'))\n",
    "\n",
    "l2=float(input('Length 2==>'))\n",
    "\n",
    "l3=sqrt(l1**2 + l2**2)\n",
    "\n",
    "print(\"The third side of the right triangle is==>\", l3)"
   ]
  },
  {
   "cell_type": "code",
   "execution_count": 6,
   "id": "b4d5036c",
   "metadata": {},
   "outputs": [
    {
     "data": {
      "text/plain": [
       "2.8284271247461903"
      ]
     },
     "execution_count": 6,
     "metadata": {},
     "output_type": "execute_result"
    }
   ],
   "source": [
    "sqrt(8)"
   ]
  },
  {
   "cell_type": "code",
   "execution_count": 20,
   "id": "89df3ac5",
   "metadata": {},
   "outputs": [
    {
     "name": "stdout",
     "output_type": "stream",
     "text": [
      "{'D': 1, 'a': 2, 't': 1, ' ': 1, 'S': 1, 'c': 2, 'i': 1, 'e': 2, 'n': 1}\n"
     ]
    }
   ],
   "source": [
    "#5.Write a python program to print the frequency of each of the characters present in a given string.\n",
    "\n",
    "def frequency(string):\n",
    "    \n",
    "    output={} # Initially variable as an empty dictionary\n",
    "    for i in string:#Iterate the string value using for loop\n",
    "        keys=output.keys() # keys of the output will be going to store in a key\n",
    "       \n",
    "        if i not in keys:\n",
    "            output[i]=1\n",
    "        else:\n",
    "            output[i]+=1\n",
    "    return output # returns the output to the output dictionary\n",
    "print(frequency('Data Science'))\n",
    "        "
   ]
  },
  {
   "cell_type": "code",
   "execution_count": null,
   "id": "8346619e",
   "metadata": {},
   "outputs": [],
   "source": []
  },
  {
   "cell_type": "code",
   "execution_count": null,
   "id": "5fea22d4",
   "metadata": {},
   "outputs": [],
   "source": []
  }
 ],
 "metadata": {
  "kernelspec": {
   "display_name": "Python 3 (ipykernel)",
   "language": "python",
   "name": "python3"
  },
  "language_info": {
   "codemirror_mode": {
    "name": "ipython",
    "version": 3
   },
   "file_extension": ".py",
   "mimetype": "text/x-python",
   "name": "python",
   "nbconvert_exporter": "python",
   "pygments_lexer": "ipython3",
   "version": "3.9.7"
  }
 },
 "nbformat": 4,
 "nbformat_minor": 5
}
